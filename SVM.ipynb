{
 "cells": [
  {
   "cell_type": "code",
   "execution_count": 1,
   "metadata": {
    "collapsed": true
   },
   "outputs": [],
   "source": [
    "%matplotlib inline"
   ]
  },
  {
   "cell_type": "code",
   "execution_count": 30,
   "metadata": {},
   "outputs": [
    {
     "name": "stdout",
     "output_type": "stream",
     "text": [
      "\n",
      "models = (svm.SVC(kernel='linear', C=C),\n",
      "          svm.SVC(kernel='rbf', gamma=0.7, C=C))\n",
      "models = (clf.fit(X, y) for clf in models)\n",
      "\n",
      "[[-0.23101152  0.17328955]\n",
      " [-0.67983441  0.75652228]\n",
      " [ 0.08309794 -0.79275587]\n",
      " [ 0.38447708  1.77379816]\n",
      " [ 0.78344928  1.49492231]\n",
      " [ 0.20442192 -0.14167412]\n",
      " [-0.01872812  1.1774985 ]\n",
      " [-1.50067378  0.86371909]\n",
      " [ 1.41222749 -0.32593673]\n",
      " [ 0.01341546  0.29051436]\n",
      " [ 1.22099616  0.23401572]\n",
      " [-2.00074497 -0.01232974]\n",
      " [ 0.51309151 -0.47493144]\n",
      " [-1.23550238 -0.78675484]\n",
      " [ 1.33714554  0.85507537]\n",
      " [ 0.44667858  0.09095779]\n",
      " [-0.11620188 -0.02296347]\n",
      " [-1.05709622  0.98659465]\n",
      " [-0.16196684 -0.89902343]\n",
      " [-1.62266293 -0.13773573]\n",
      " [-0.63221245 -1.95778008]\n",
      " [-0.91987862  2.84168603]\n",
      " [-0.31281686 -0.54980078]\n",
      " [-0.83098584  1.43152019]\n",
      " [ 0.17385201 -0.04910575]\n",
      " [-0.88873369  0.56226219]\n",
      " [-0.22627784  0.48142972]\n",
      " [-0.33110705 -0.65909993]\n",
      " [-1.58027668 -1.41307915]\n",
      " [-0.45001709  1.02715546]\n",
      " [ 1.05888908 -0.8518702 ]\n",
      " [-0.83511246 -0.86691614]\n",
      " [-0.81101123 -0.69321212]\n",
      " [-2.71776955  1.22696285]\n",
      " [ 0.30042554 -0.87379074]\n",
      " [-1.37952401 -2.04896204]\n",
      " [-1.05002123  1.3557342 ]\n",
      " [ 0.11095672 -2.30537965]\n",
      " [ 0.22345982  2.50409241]\n",
      " [-0.74733356  0.09022497]\n",
      " [ 1.51535377 -0.60784041]\n",
      " [-2.09568205  2.91195773]\n",
      " [ 0.05505412 -0.33697395]\n",
      " [ 0.11685238  0.28729572]\n",
      " [-0.03454226  0.08165311]\n",
      " [-2.140293   -1.0207946 ]\n",
      " [ 0.21766979 -1.17593942]\n",
      " [ 0.47208787  0.37818909]\n",
      " [-2.13227229 -0.09237788]\n",
      " [ 0.09015445 -0.46446057]]\n",
      "     pcost       dcost       gap    pres   dres\n",
      " 0: -1.3430e+01 -3.8335e+01  1e+02  8e+00  2e+00\n",
      " 1: -2.6982e+01 -4.9834e+01  5e+01  3e+00  8e-01\n",
      " 2: -6.2632e+01 -8.8983e+01  5e+01  3e+00  8e-01\n",
      " 3: -1.0917e+02 -1.3616e+02  4e+01  1e+00  4e-01\n",
      " 4: -1.1091e+02 -1.2013e+02  1e+01  3e-01  6e-02\n",
      " 5: -1.1247e+02 -1.1297e+02  6e-01  1e-02  3e-03\n",
      " 6: -1.1261e+02 -1.1264e+02  3e-02  5e-04  1e-04\n",
      " 7: -1.1262e+02 -1.1262e+02  9e-04  7e-06  2e-06\n",
      " 8: -1.1262e+02 -1.1262e+02  1e-05  7e-08  2e-08\n",
      "Optimal solution found.\n"
     ]
    },
    {
     "data": {
      "image/png": "[encoded data removed]",
      "text/plain": [
       "<matplotlib.figure.Figure at 0x7f708eb00be0>"
      ]
     },
     "metadata": {},
     "output_type": "display_data"
    }
   ],
   "source": [
    "print(__doc__)\n",
    "\n",
    "import numpy as np\n",
    "import matplotlib.pyplot as plt\n",
    "import svm\n",
    "import itertools\n",
    "\n",
    "\n",
    "def make_meshgrid(x, y, h=.02):\n",
    "    x_min, x_max = x.min() - 1, x.max() + 1\n",
    "    y_min, y_max = y.min() - 1, y.max() + 1\n",
    "    xx, yy = np.meshgrid(np.arange(x_min, x_max, h),\n",
    "                         np.arange(y_min, y_max, h))\n",
    "    return xx, yy\n",
    "\n",
    "\n",
    "def plot_contours(ax, clf, xx, yy, **params):\n",
    "    result = []\n",
    "    for (i, j) in itertools.product(range(len(xx)), range(len(xx[0]))):\n",
    "        point = np.array([xx[i, j], yy[i, j]]).reshape(1, 2)\n",
    "        result.append(predictor.predict(point))\n",
    "        \n",
    "    Z = np.array(result).reshape(xx.shape)\n",
    "    out = ax.contourf(xx, yy, Z, **params)\n",
    "    return out\n",
    "\n",
    "# Take the first two features. We could avoid this by using a two-dim dataset\n",
    "\n",
    "num_samples=50\n",
    "num_features=2\n",
    "\n",
    "samples = np.matrix(np.random.normal(size=num_samples * num_features).reshape(num_samples, num_features))\n",
    "    \n",
    "labels = 2 * (samples.sum(axis=1) > 0) - 1.0\n",
    "\n",
    "\n",
    "C = 1  # SVM regularization parameter\n",
    "\n",
    "trainer = svm.SVMTrainer(svm.Kernel.gaussian(0.7))\n",
    "    \n",
    "predictor = trainer.train(samples, labels)\n",
    "\n",
    "# Set-up 2x2 grid for plotting.\n",
    "\n",
    "plt.subplots_adjust(wspace=0.4, hspace=0.4)\n",
    "\n",
    "X0, X1 = X[:, 0], X[:, 1]\n",
    "\n",
    "xx, yy = make_meshgrid(X0, X1)\n",
    "\n",
    "\n",
    "plot_contours(plt, predictor, xx, yy, cmap=plt.cm.coolwarm, alpha=0.8)\n",
    "plt.scatter(X0, X1, c=y, cmap=plt.cm.coolwarm, s=20, edgecolors='k')\n",
    "plt.show()\n"
   ]
  },
  {
   "cell_type": "code",
   "execution_count": null,
   "metadata": {
    "collapsed": true
   },
   "outputs": [],
   "source": []
  }
 ],
 "metadata": {
  "kernelspec": {
   "display_name": "Python 3",
   "language": "python",
   "name": "python3"
  },
  "language_info": {
   "codemirror_mode": {
    "name": "ipython",
    "version": 3
   },
   "file_extension": ".py",
   "mimetype": "text/x-python",
   "name": "python",
   "nbconvert_exporter": "python",
   "pygments_lexer": "ipython3",
   "version": "3.6.3"
  }
 },
 "nbformat": 4,
 "nbformat_minor": 2
}
