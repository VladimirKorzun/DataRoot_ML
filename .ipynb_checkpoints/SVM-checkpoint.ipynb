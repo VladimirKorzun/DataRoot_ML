{
 "cells": [
  {
   "cell_type": "code",
   "execution_count": 1,
   "metadata": {},
   "outputs": [],
   "source": [
    "%matplotlib inline"
   ]
  },
  {
   "cell_type": "code",
   "execution_count": null,
   "metadata": {},
   "outputs": [
    {
     "name": "stdout",
     "output_type": "stream",
     "text": [
      "Automatically created module for IPython interactive environment\n",
      "[[-0.4737636   0.59857021]\n",
      " [ 0.08229391  1.6804832 ]\n",
      " [-1.62869455  0.42575934]\n",
      " [-2.00930789 -2.16423289]\n",
      " [-0.37359675  1.63070653]\n",
      " [ 0.10008272  0.33045033]\n",
      " [-0.9359467   0.10735872]\n",
      " [ 1.21180237 -0.14129209]\n",
      " [ 0.8529169   0.32982168]\n",
      " [-0.8457259  -1.0624949 ]]\n",
      "     pcost       dcost       gap    pres   dres\n",
      " 0: -2.7928e+00 -7.2983e+00  5e+00  0e+00  2e+00\n",
      " 1: -3.3485e+00 -4.1402e+00  8e-01  2e-16  4e-01\n",
      " 2: -3.8642e+00 -4.1393e+00  3e-01  5e-16  2e-16\n",
      " 3: -3.8905e+00 -3.9006e+00  1e-02  5e-16  5e-16\n",
      " 4: -3.8943e+00 -3.8948e+00  5e-04  5e-16  4e-16\n",
      " 5: -3.8945e+00 -3.8945e+00  1e-05  3e-16  2e-16\n",
      " 6: -3.8945e+00 -3.8945e+00  1e-07  1e-15  2e-16\n",
      "Optimal solution found.\n"
     ]
    }
   ],
   "source": [
    "print(__doc__)\n",
    "\n",
    "import numpy as np\n",
    "import matplotlib.pyplot as plt\n",
    "import svm\n",
    "import itertools\n",
    "\n",
    "\n",
    "def make_meshgrid(x, y, h=.02):\n",
    "    x_min, x_max = x.min() - 1, x.max() + 1\n",
    "    y_min, y_max = y.min() - 1, y.max() + 1\n",
    "    xx, yy = np.meshgrid(np.arange(x_min, x_max, h),\n",
    "                         np.arange(y_min, y_max, h))\n",
    "    return xx, yy\n",
    "\n",
    "\n",
    "def plot_contours(ax, clf, xx, yy, **params):\n",
    "    result = []\n",
    "    for (i, j) in itertools.product(range(len(xx)), range(len(xx[0]))):\n",
    "        point = np.array([xx[i, j], yy[i, j]]).reshape(1, 2)\n",
    "        result.append(predictor.predict(point))\n",
    "        \n",
    "    Z = np.array(result).reshape(xx.shape)\n",
    "    out = ax.contourf(xx, yy, Z, **params)\n",
    "    return out\n",
    "\n",
    "# Take the first two features. We could avoid this by using a two-dim dataset\n",
    "\n",
    "num_samples=10\n",
    "num_features=2\n",
    "\n",
    "samples = np.array(np.random.normal(size=num_samples * num_features).reshape(num_samples, num_features))\n",
    "    \n",
    "labels = 2 * (samples.sum(axis=1) > 0) - 1.0\n",
    "\n",
    "\n",
    "C = 1  # SVM regularization parameter\n",
    "\n",
    "trainer = svm.SVMTrainer(svm.Kernel.gaussian(0.7))\n",
    "    \n",
    "predictor = trainer.train(samples, labels)\n",
    "\n",
    "# Set-up 2x2 grid for plotting.\n",
    "\n",
    "plt.subplots_adjust(wspace=0.4, hspace=0.4)\n",
    "\n",
    "X0, X1 = samples[:, 0], samples[:, 1]\n",
    "\n",
    "xx, yy = make_meshgrid(X0, X1)\n",
    "\n",
    "\n",
    "plot_contours(plt, predictor, xx, yy, cmap=plt.cm.coolwarm, alpha=0.8)\n",
    "plt.scatter(X0, X1, c = labels, cmap=plt.cm.coolwarm, edgecolors='k')\n",
    "plt.show()\n"
   ]
  },
  {
   "cell_type": "code",
   "execution_count": null,
   "metadata": {
    "collapsed": true
   },
   "outputs": [],
   "source": []
  }
 ],
 "metadata": {
  "kernelspec": {
   "display_name": "Python 3",
   "language": "python",
   "name": "python3"
  },
  "language_info": {
   "codemirror_mode": {
    "name": "ipython",
    "version": 3
   },
   "file_extension": ".py",
   "mimetype": "text/x-python",
   "name": "python",
   "nbconvert_exporter": "python",
   "pygments_lexer": "ipython3",
   "version": "3.6.3"
  }
 },
 "nbformat": 4,
 "nbformat_minor": 2
}
